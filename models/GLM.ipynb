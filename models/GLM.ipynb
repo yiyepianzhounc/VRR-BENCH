{
 "cells": [
  {
   "cell_type": "code",
   "execution_count": null,
   "metadata": {},
   "outputs": [],
   "source": [
    "from zhipuai import ZhipuAI\n",
    "import pandas as pd\n",
    "\n",
    "client = ZhipuAI(api_key=\"\") \n",
    "\n",
    "\n",
    "imgs_questions = pd.read_csv(\"../Dataset/SoMDataset/Relaitonal/3_color_size_shape/3_color_size_shape.csv\")\n",
    "\n",
    "# 修改下面的范围\n",
    "imgurl_list = imgs_questions.iloc[:, 0]\n",
    "text_list = imgs_questions.iloc[:, 1]\n",
    "\n",
    "\n",
    "\n",
    "# 调用接口进行聊天完成请求\n",
    "for imgurl, text in zip(imgurl_list, text_list):\n",
    "  response = client.chat.completions.create(\n",
    "      model=\"glm-4v\",\n",
    "      stream=False,\n",
    "      messages=[\n",
    "          {\n",
    "              \"role\": \"user\",\n",
    "              \"content\": [\n",
    "                  {\n",
    "                      \"type\": \"image_url\",\n",
    "                      \"image_url\": {\n",
    "                          \"url\": imgurl\n",
    "                      }\n",
    "                  },\n",
    "                  {\n",
    "                      \"type\": \"text\",\n",
    "                      \"text\": text+\",找出正确物体的序号。\"\n",
    "                  }\n",
    "              ]\n",
    "          }\n",
    "      ]\n",
    "  )\n",
    "  print(response)"
   ]
  },
  {
   "cell_type": "markdown",
   "metadata": {},
   "source": []
  }
 ],
 "metadata": {
  "kernelspec": {
   "display_name": "DeepSleep",
   "language": "python",
   "name": "python3"
  },
  "language_info": {
   "codemirror_mode": {
    "name": "ipython",
    "version": 3
   },
   "file_extension": ".py",
   "mimetype": "text/x-python",
   "name": "python",
   "nbconvert_exporter": "python",
   "pygments_lexer": "ipython3",
   "version": "3.11.9"
  }
 },
 "nbformat": 4,
 "nbformat_minor": 2
}
